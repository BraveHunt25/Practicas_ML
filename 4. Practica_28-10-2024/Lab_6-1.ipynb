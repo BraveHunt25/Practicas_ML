{
 "cells": [
  {
   "cell_type": "markdown",
   "metadata": {},
   "source": [
    "# Laboratorio 6: Clasificadores de la distancia mínima y 1NN\n",
    "## Integrantes:\n",
    "- Hernández Jiménez Erick Yael\n",
    "- Patiño Flores Samuel\n",
    "- Robert Garayzar Arturo"
   ]
  },
  {
   "cell_type": "markdown",
   "metadata": {},
   "source": [
    "## Parte 1\n",
    "Programa y valida el Clasificador de la Distancia Mínima, valídalo con 3 datasets y los siguientes métodos de validación. \n",
    "- Hold-Out 70/30 estratificado\n",
    "- 10-Fold Cross-Validation estratificado\n",
    "- Leave-One-Out."
   ]
  },
  {
   "cell_type": "code",
   "execution_count": 6,
   "metadata": {},
   "outputs": [],
   "source": [
    "# Importamos las bibliotecas necesarias\n",
    "import sklearn          # Para las herramientas\n",
    "import pandas as pd     # Para manipular los datasets\n",
    "from sklearn.metrics import accuracy_score, classification_report   # Para auxiliar en la interpretación de los resultados"
   ]
  },
  {
   "cell_type": "markdown",
   "metadata": {},
   "source": [
    "### Datasets\n",
    "Se usarán 3 datasets:\n",
    "- Iris\n",
    "- Wine\n",
    "- Mushroom\n",
    "\n",
    "Todos descargados de la [biblioteca virtual pública](https://archive.ics.uci.edu/datasets) de la universidad UC Irvine.\n",
    "Para más detalles, consúltese el archivo .names correspondiente."
   ]
  },
  {
   "cell_type": "code",
   "execution_count": 22,
   "metadata": {},
   "outputs": [],
   "source": [
    "iris = pd.read_csv(\"./datasets/iris/iris.csv\")\n",
    "iris_X = iris.iloc[:, :-1]      # Características\n",
    "iris_Y = iris.iloc[:,-1]        # Clases\n",
    "wine = pd.read_csv(\"./datasets/wine/wine.data.csv\")\n",
    "wine_X = wine.iloc[:,1:]        # Características\n",
    "wine_Y = wine.iloc[:,0]         # Clases\n",
    "mushroom = pd.read_csv(\"./datasets/mushroom/agaricus-lepiota.data.csv\")\n",
    "mushroom_X = mushroom.iloc[:,1:]# Características\n",
    "mushroom_Y = mushroom.iloc[:,0] # Clases"
   ]
  },
  {
   "cell_type": "markdown",
   "metadata": {},
   "source": [
    "### Algoritmo\n",
    "Para crear un clasificador de distancia mínima debemos contar con:\n",
    "- Dataset de entrenamiento\n",
    "- Dataset de prueba\n",
    "  \n",
    "Con esto:\n",
    "1. \"Entrenamos\" el algoritmo calculando los centroides de las clases con el dataset de entrenamiento\n",
    "2. Para cada instancia del dataset de prueba calculamos la distancia entre las instancias mismas y los centroides\n",
    "3. Realizamos la predicción tomando en cuenta al centroide más cercano a cada instancia\n",
    "4. Verificamos con las clases esperadas del dataset de prueba\n",
    "\n",
    "Para cada centroide $m_k$ requerimos:\n",
    "- $k$: Número de la clase\n",
    "- $N_E(\\omega_k)$: Número de instancias de la clase $k$\n",
    "- $\\sum x_j$: Suma del contenido de todas las instancias en la posición $j$"
   ]
  },
  {
   "cell_type": "code",
   "execution_count": 4,
   "metadata": {},
   "outputs": [],
   "source": [
    "from sklearn.neighbors import NearestCentroid"
   ]
  },
  {
   "cell_type": "markdown",
   "metadata": {},
   "source": [
    "### Hold-Out 70/30 Estratificado\n",
    "El término \"Hold-Out 70/30 Estratificado\" describe una técnica específica para dividir un conjunto de datos en dos subconjuntos (entrenamiento y prueba) con una proporción de 70% y 30%, respectivamente, mientras se mantiene la misma distribución de clases en ambos subconjuntos."
   ]
  },
  {
   "cell_type": "code",
   "execution_count": 5,
   "metadata": {},
   "outputs": [],
   "source": [
    "from sklearn.model_selection import train_test_split"
   ]
  },
  {
   "cell_type": "markdown",
   "metadata": {},
   "source": [
    "### 10-Fold Cross-Validation estratificado\n",
    "Es una técnica de validación de modelos de machine learning que evalúa el desempeño de un modelo al dividir el conjunto de datos en 10 subconjuntos o \"folds\", asegurando que la proporción de clases se mantenga constante en cada uno de ellos."
   ]
  },
  {
   "cell_type": "markdown",
   "metadata": {},
   "source": [
    "### Leave-One-Out\n",
    "Es un método en la que se utiliza cada instancia del conjunto de datos como conjunto de prueba, y todas las demás instancias como conjunto de entrenamiento."
   ]
  },
  {
   "cell_type": "code",
   "execution_count": 24,
   "metadata": {},
   "outputs": [
    {
     "name": "stdout",
     "output_type": "stream",
     "text": [
      "Precisión del modelo: 91.11%\n"
     ]
    }
   ],
   "source": [
    "# Dividir los datos en conjuntos de entrenamiento y prueba (70/30) de manera estratificada\n",
    "X_train, X_test, y_train, y_test = train_test_split(iris_X, iris_Y, test_size=0.30, stratify=iris_Y, random_state=42)\n",
    "\n",
    "# Entrenamiento\n",
    "model = NearestCentroid()\n",
    "model.fit(X_train, y_train)\n",
    "\n",
    "# Predicción\n",
    "y_pred = model.predict(X_test)\n",
    "\n",
    "accuracy = accuracy_score(y_test, y_pred)\n",
    "print(f\"Precisión del modelo: {accuracy * 100:.2f}%\")"
   ]
  },
  {
   "cell_type": "code",
   "execution_count": null,
   "metadata": {},
   "outputs": [],
   "source": []
  }
 ],
 "metadata": {
  "kernelspec": {
   "display_name": "venv",
   "language": "python",
   "name": "python3"
  },
  "language_info": {
   "codemirror_mode": {
    "name": "ipython",
    "version": 3
   },
   "file_extension": ".py",
   "mimetype": "text/x-python",
   "name": "python",
   "nbconvert_exporter": "python",
   "pygments_lexer": "ipython3",
   "version": "3.12.6"
  }
 },
 "nbformat": 4,
 "nbformat_minor": 2
}
